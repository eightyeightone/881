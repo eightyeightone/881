{
  "nbformat": 4,
  "nbformat_minor": 0,
  "metadata": {
    "colab": {
      "name": "Aplaca_API_Paper_T.ipynb",
      "provenance": [],
      "collapsed_sections": [],
      "mount_file_id": "11c8rcstnqIeSMT_EvrkSaD6ikDYe_8T0",
      "authorship_tag": "ABX9TyPWlRFW4rX8qs0+ooIJP1VV",
      "include_colab_link": true
    },
    "kernelspec": {
      "name": "python3",
      "display_name": "Python 3"
    },
    "language_info": {
      "name": "python"
    }
  },
  "cells": [
    {
      "cell_type": "markdown",
      "metadata": {
        "id": "view-in-github",
        "colab_type": "text"
      },
      "source": [
        "<a href=\"https://colab.research.google.com/github/staleystreet/Works/blob/main/April_2021/Aplaca_API_Paper_T.ipynb\" target=\"_parent\"><img src=\"https://colab.research.google.com/assets/colab-badge.svg\" alt=\"Open In Colab\"/></a>"
      ]
    },
    {
      "cell_type": "markdown",
      "metadata": {
        "id": "pN1MhcsiizHO"
      },
      "source": [
        "URL: [Alpaca API Link](https://app.alpaca.markets/paper/dashboard/overview).\n",
        "\n",
        "Overview: This is to do that..."
      ]
    },
    {
      "cell_type": "code",
      "metadata": {
        "id": "q2S67FHCA4b8",
        "colab": {
          "base_uri": "https://localhost:8080/"
        },
        "outputId": "2d98be6a-97b4-40c8-9cbe-bdbcc208c1d5"
      },
      "source": [
        "# Package Installs (Hosted Runtime):\n",
        "!pip install alpaca-trade-api &> /dev/null # Suppress output.\n",
        "\n",
        "from google.colab import drive # Mounting google drive folder\n",
        "drive.mount('/content/drive/')"
      ],
      "execution_count": 11,
      "outputs": [
        {
          "output_type": "stream",
          "text": [
            "Mounted at /content/drive/\n"
          ],
          "name": "stdout"
        }
      ]
    },
    {
      "cell_type": "code",
      "metadata": {
        "id": "FBisJ4Yq_yAh"
      },
      "source": [
        "import sys\n",
        "sys.path.append('/content/drive/MyDrive/Colab Notebooks')\n",
        "\n",
        "import requests\n",
        "import alpaca_trade_api as alpaca\n",
        "import config"
      ],
      "execution_count": 13,
      "outputs": []
    },
    {
      "cell_type": "code",
      "metadata": {
        "id": "dVSJk-lAAePr",
        "colab": {
          "base_uri": "https://localhost:8080/"
        },
        "outputId": "105a1a79-dfc1-4622-f2e4-dbadd40ca62a"
      },
      "source": [
        "BASE_URL = \"https://paper-api.alpaca.markets\"\n",
        "ACCOUNT_URL = \"{}/v2/account\".format(BASE_URL)\n",
        "\n",
        "API_KEY_ID = config.keys['API_KEY_ID']\n",
        "API_SECRET_KEY = config.keys['API_SECRET_KEY']\n",
        "\n",
        "api = alpaca.REST(API_KEY_ID, API_SECRET_KEY, BASE_URL);"
      ],
      "execution_count": 17,
      "outputs": [
        {
          "output_type": "stream",
          "text": [
            "PK7SS20UQRJCR88V183O\n",
            "ZDG4i1bPo4BhlXzv5aYbDdwhSCg8wyOAcxcUn7NL\n"
          ],
          "name": "stdout"
        }
      ]
    },
    {
      "cell_type": "code",
      "metadata": {
        "id": "DBMh7hvcFUQE",
        "colab": {
          "base_uri": "https://localhost:8080/"
        },
        "outputId": "f8c50dce-6a60-472e-b2c7-c04ab68a648f"
      },
      "source": [
        "account_alpaca = api.get_account(); # Print account sumary, remove ; to view."
      ],
      "execution_count": 19,
      "outputs": [
        {
          "output_type": "stream",
          "text": [
            "Account({   'account_blocked': False,\n",
            "    'account_number': 'PA3418H2OSOM',\n",
            "    'buying_power': '398981.184',\n",
            "    'cash': '99227.45',\n",
            "    'created_at': '2021-04-08T05:09:16.614839Z',\n",
            "    'currency': 'USD',\n",
            "    'daytrade_count': 0,\n",
            "    'daytrading_buying_power': '398981.184',\n",
            "    'equity': '99967.14',\n",
            "    'id': '0c2e91b9-d3cd-4d5b-82ac-d40dabd9d56a',\n",
            "    'initial_margin': '369.845',\n",
            "    'last_equity': '99967.23',\n",
            "    'last_maintenance_margin': '221.934',\n",
            "    'long_market_value': '739.69',\n",
            "    'maintenance_margin': '221.907',\n",
            "    'multiplier': '4',\n",
            "    'pattern_day_trader': False,\n",
            "    'portfolio_value': '99967.14',\n",
            "    'regt_buying_power': '199194.59',\n",
            "    'short_market_value': '0',\n",
            "    'shorting_enabled': True,\n",
            "    'sma': '0',\n",
            "    'status': 'ACTIVE',\n",
            "    'trade_suspended_by_user': False,\n",
            "    'trading_blocked': False,\n",
            "    'transfers_blocked': False})\n"
          ],
          "name": "stdout"
        }
      ]
    },
    {
      "cell_type": "code",
      "metadata": {
        "id": "xE0woD17GiGe"
      },
      "source": [
        "# Submit order to buy 1 share of Tesla, TSLA (ticker)\n",
        "api.submit_order(\n",
        "    symbol = 'TSLA',\n",
        "    qty = '1',\n",
        "    side = 'buy',\n",
        "    type = 'market',\n",
        "    time_in_force = 'gtc'\n",
        "); # gtc, good till cancelled, orders remains in effect unless filled/cancelled."
      ],
      "execution_count": null,
      "outputs": []
    },
    {
      "cell_type": "code",
      "metadata": {
        "id": "XXU3FzRnHa4I"
      },
      "source": [
        "api.list_positions(); #  To view closed, filled orders, i.e. market open.\n",
        "api.list_orders(); #     To view open, unfilled orders, i.e. market closed. "
      ],
      "execution_count": null,
      "outputs": []
    }
  ]
}