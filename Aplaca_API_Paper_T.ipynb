{
  "nbformat": 4,
  "nbformat_minor": 0,
  "metadata": {
    "colab": {
      "name": "Aplaca_API_Paper_T.ipynb",
      "provenance": [],
      "collapsed_sections": [],
      "authorship_tag": "ABX9TyOk1nCa8/nOJcycOCJ8WcWl",
      "include_colab_link": true
    },
    "kernelspec": {
      "name": "python3",
      "display_name": "Python 3"
    },
    "language_info": {
      "name": "python"
    }
  },
  "cells": [
    {
      "cell_type": "markdown",
      "metadata": {
        "id": "view-in-github",
        "colab_type": "text"
      },
      "source": [
        "<a href=\"https://colab.research.google.com/github/staleystreet/Works/blob/main/Aplaca_API_Paper_T.ipynb\" target=\"_parent\"><img src=\"https://colab.research.google.com/assets/colab-badge.svg\" alt=\"Open In Colab\"/></a>"
      ]
    },
    {
      "cell_type": "markdown",
      "metadata": {
        "id": "pN1MhcsiizHO"
      },
      "source": [
        "URL: [Alpaca API Link](https://app.alpaca.markets/paper/dashboard/overview).\n",
        "\n",
        "Overview: This is to do that..."
      ]
    },
    {
      "cell_type": "code",
      "metadata": {
        "id": "q2S67FHCA4b8"
      },
      "source": [
        "# Package Installs:\n",
        "!pip install alpaca-trade-api &> /dev/null # Suppress output."
      ],
      "execution_count": 6,
      "outputs": []
    },
    {
      "cell_type": "code",
      "metadata": {
        "id": "FBisJ4Yq_yAh"
      },
      "source": [
        "import requests\n",
        "import alpaca_trade_api as alpaca"
      ],
      "execution_count": 12,
      "outputs": []
    },
    {
      "cell_type": "code",
      "metadata": {
        "id": "dVSJk-lAAePr"
      },
      "source": [
        "BASE_URL = \"https://paper-api.alpaca.markets\"\n",
        "ACCOUNT_URL = \"{}/v2/account\".format(BASE_URL)\n",
        "\n",
        "API_KEY_ID = 'PK7SS20UQRJCR88V183O'\n",
        "API_SECRET_KEY = 'ZDG4i1bPo4BhlXzv5aYbDdwhSCg8wyOAcxcUn7NL'\n",
        "\n",
        "api = alpaca.REST(API_KEY_ID, API_SECRET_KEY, BASE_URL);"
      ],
      "execution_count": 23,
      "outputs": []
    },
    {
      "cell_type": "code",
      "metadata": {
        "id": "DBMh7hvcFUQE"
      },
      "source": [
        "api.get_account(); # Print account sumary, remove ; to view."
      ],
      "execution_count": 21,
      "outputs": []
    },
    {
      "cell_type": "code",
      "metadata": {
        "id": "xE0woD17GiGe"
      },
      "source": [
        "# Submit order to buy 1 share of Tesla, TSLA (ticker)\n",
        "api.submit_order(\n",
        "    symbol = 'TSLA',\n",
        "    qty = '1',\n",
        "    side = 'buy',\n",
        "    type = 'market',\n",
        "    time_in_force = 'gtc'\n",
        "); # gtc, good till cancelled, orders remains in effect unless filled/cancelled."
      ],
      "execution_count": 38,
      "outputs": []
    },
    {
      "cell_type": "code",
      "metadata": {
        "id": "XXU3FzRnHa4I"
      },
      "source": [
        "api.list_positions();\n",
        "api.list_orders();"
      ],
      "execution_count": 37,
      "outputs": []
    }
  ]
}